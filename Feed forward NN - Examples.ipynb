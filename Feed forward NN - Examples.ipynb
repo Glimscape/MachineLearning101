{
 "cells": [
  {
   "cell_type": "markdown",
   "metadata": {},
   "source": [
    "# 深度学习基础"
   ]
  },
  {
   "cell_type": "markdown",
   "metadata": {},
   "source": [
    "## 1. 写一个简单的神经网络吧！"
   ]
  },
  {
   "cell_type": "markdown",
   "metadata": {},
   "source": [
    "我们要借助 numpy 搭一个两层的神经网络去拟合正弦函数 $sin(x)$，其中包含一个隐藏层和一个输出层。\n",
    "\n",
    "（1）输入层 input_layer 包含 __1__ 个神经元\n",
    "\n",
    "（2）隐藏层 hidden_layer 包含 __4__ 个神经元\n",
    "\n",
    "（3）输出层 output_layer 包含 __1__ 个神经元"
   ]
  },
  {
   "cell_type": "code",
   "execution_count": 1,
   "metadata": {},
   "outputs": [],
   "source": [
    "import numpy as np\n",
    "import matplotlib.pyplot as plt\n",
    "%matplotlib inline"
   ]
  },
  {
   "cell_type": "markdown",
   "metadata": {},
   "source": [
    "把这个网络用表达式写出来就是这样的：\n",
    "\n",
    "$$ s_i^{(1)} = W_{1i}^{(1)} x_1 + b^{(1)} $$\n",
    "\n",
    "$$ x_i^{(1)} = \\sigma (s_i^{(1)}) $$\n",
    "\n",
    "$$ s_1^{(2)} = W_{i1}^{(2)}x_i^{(1)} + b^{(2)} $$\n",
    "\n",
    "i 就是隐藏层神经元的 index。这里有4个神经元，i 的取值范围就是1~4。为了表示方便，这里把 threshold 或者说 bias 的值 b 单独列出来了。\n",
    "\n",
    "因为是一个回归问题所以输出层不加激活函数，第二层的 $s^{(2)}$ 就是神经网络最后的输出 output 。"
   ]
  },
  {
   "cell_type": "markdown",
   "metadata": {},
   "source": [
    "这个网络中的所有参数就是 W1, W2, b1, b2"
   ]
  },
  {
   "cell_type": "code",
   "execution_count": 2,
   "metadata": {},
   "outputs": [],
   "source": [
    "class NN:\n",
    "    def __init__(self, num_neuron):\n",
    "        self.W1 = np.random.rand(num_neuron, 1)\n",
    "        self.b1 = 0\n",
    "        self.W2 = np.random.rand(1, num_neuron)\n",
    "        self.b2 = 0"
   ]
  },
  {
   "cell_type": "markdown",
   "metadata": {},
   "source": [
    "### 基本模块：激活函数 sigmoid() 及其导数 sigmoid_d()"
   ]
  },
  {
   "cell_type": "markdown",
   "metadata": {},
   "source": [
    "sigmoid 即 logistic function，它的数学表达式是这样的：\n",
    "\n",
    "$$ sigmoid(x) = \\frac{1}{1+exp(-x)} $$"
   ]
  },
  {
   "cell_type": "markdown",
   "metadata": {},
   "source": [
    "sigmoid 的导数要用到 sigmoid 本身，写出来是这样的：\n",
    "\n",
    "$$ sigmoid\\_d(x) = sigmoid(x)(1-sigmoid(x)) $$\n"
   ]
  },
  {
   "cell_type": "code",
   "execution_count": 3,
   "metadata": {},
   "outputs": [],
   "source": [
    "def sigmoid(x):\n",
    "    return 1.0 / (1 + np.exp(-x))"
   ]
  },
  {
   "cell_type": "code",
   "execution_count": 4,
   "metadata": {},
   "outputs": [],
   "source": [
    "def sigmoid_d(x):\n",
    "    sig = sigmoid(x)\n",
    "    return sig * (1 - sig)"
   ]
  },
  {
   "cell_type": "code",
   "execution_count": 5,
   "metadata": {},
   "outputs": [
    {
     "data": {
      "text/plain": [
       "array([0.26894142, 0.5       , 0.73105858])"
      ]
     },
     "execution_count": 5,
     "metadata": {},
     "output_type": "execute_result"
    }
   ],
   "source": [
    "sigmoid(np.array([-1, 0, 1]))"
   ]
  },
  {
   "cell_type": "code",
   "execution_count": 6,
   "metadata": {},
   "outputs": [
    {
     "data": {
      "text/plain": [
       "array([0.19661193, 0.25      , 0.19661193])"
      ]
     },
     "execution_count": 6,
     "metadata": {},
     "output_type": "execute_result"
    }
   ],
   "source": [
    "sigmoid_d(np.array([-1, 0, 1]))"
   ]
  },
  {
   "cell_type": "markdown",
   "metadata": {},
   "source": [
    "### 基本模块：正向传播 forward()"
   ]
  },
  {
   "cell_type": "markdown",
   "metadata": {},
   "source": [
    "有了初始化之后的参数、输入和激活函数之后就可以开始网络的正向传播了。这里我们把正向传播作为神经网络这个类的方法。"
   ]
  },
  {
   "cell_type": "code",
   "execution_count": 7,
   "metadata": {},
   "outputs": [],
   "source": [
    "class NN:\n",
    "    def __init__(self, num_neuron):\n",
    "        # basic parameters of NN\n",
    "        self.W1 = np.random.rand(num_neuron, 1)\n",
    "        self.b1 = 0\n",
    "        self.W2 = np.random.rand(1, num_neuron)\n",
    "        self.b2 = 0\n",
    "        \n",
    "        # temporary parameters of NN\n",
    "        self.S1 = 0\n",
    "        self.X1 = 0\n",
    "        self.S2 = 0\n",
    "        \n",
    "    def forward(x):\n",
    "        self.S1 = np.dot(x, self.W1) + self.b1\n",
    "        self.X1 = sigmoid(self.S1)\n",
    "        self.S2 = np.dot(self.X1, self.W2) + self.b2"
   ]
  },
  {
   "cell_type": "markdown",
   "metadata": {},
   "source": [
    "__tips__ ：numpy里面，\\* 和 np.dot是不同的。\\* 表示两个向量或者矩阵的元素两两相乘的乘法，等价于np.multiply；dot 表示向量积，不要用错了。"
   ]
  },
  {
   "cell_type": "markdown",
   "metadata": {},
   "source": [
    "### 基本模块：损失函数 loss functions"
   ]
  },
  {
   "cell_type": "markdown",
   "metadata": {},
   "source": [
    "损失函数一般用来衡量模型输出值于真实值之间的差异，我们希望这个差异越小越好，也就是损失函数的值越小越好。\n",
    "\n",
    "这里我们定义：\n",
    "\n",
    "$$ Loss(y_{predict},y) = \\frac{1}{2}(y_{predict} - y)^2 $$"
   ]
  },
  {
   "cell_type": "code",
   "execution_count": 8,
   "metadata": {},
   "outputs": [],
   "source": [
    "def L2(y_pred, y):\n",
    "    return 0.5*(np.square(y_pred - y))"
   ]
  },
  {
   "cell_type": "code",
   "execution_count": 9,
   "metadata": {
    "scrolled": true
   },
   "outputs": [
    {
     "data": {
      "text/plain": [
       "array([0.005, 0.02 , 0.   , 0.   , 0.   ])"
      ]
     },
     "execution_count": 9,
     "metadata": {},
     "output_type": "execute_result"
    }
   ],
   "source": [
    "y1 = np.array([1.1, 2.2, 3, 4, 5])\n",
    "y2 = np.array([1, 2, 3, 4, 5])\n",
    "L2(y1, y2)"
   ]
  },
  {
   "cell_type": "markdown",
   "metadata": {},
   "source": [
    "### 基本模块：反向传播 backward()"
   ]
  },
  {
   "cell_type": "code",
   "execution_count": 10,
   "metadata": {},
   "outputs": [],
   "source": [
    "class NN:\n",
    "    def __init__(self, num_neuron, learning_rate):\n",
    "        # basic parameters of NN\n",
    "        self.W1 = np.random.rand(num_neuron, 1)\n",
    "        self.b1 = 0\n",
    "        self.W2 = np.random.rand(1, num_neuron)\n",
    "        self.b2 = 0\n",
    "        self.lr = learning_rate\n",
    "        \n",
    "        # temporary parameters of NN\n",
    "        self.S1 = 0\n",
    "        self.X1 = 0\n",
    "        self.S2 = 0\n",
    "        \n",
    "        self.dW1 = None\n",
    "        self.db1 = None\n",
    "        self.dW2 = None\n",
    "        self.db2 = None\n",
    "        \n",
    "    def forward(self, x):\n",
    "        self.S1 = self.W1 * x + self.b1\n",
    "        self.X1 = sigmoid(self.S1)\n",
    "        self.S2 = np.dot(self.W2, self.X1) + self.b2\n",
    "        \n",
    "    def backward(self, x, y):\n",
    "        delta2 = -(y - self.S2)\n",
    "        self.dW2 = np.dot(delta2, self.X1.T)  # T表示矩阵的转置\n",
    "        self.db2 = delta2\n",
    "        \n",
    "        delta1 = np.dot(self.W2.T, delta2) * sigmoid_d(self.S1)\n",
    "        self.dW1 = delta1 * x\n",
    "        self.db1 = delta1\n",
    "                \n",
    "    def update(self):\n",
    "        self.W1 = self.W1 - self.lr * self.dW1\n",
    "        self.b1 = self.b1 - self.lr * self.db1\n",
    "        self.W2 = self.W2 - self.lr * self.dW2\n",
    "        self.b2 = self.b2 - self.lr * self.db2"
   ]
  },
  {
   "cell_type": "markdown",
   "metadata": {},
   "source": [
    "至此，这个神经网络的基本模块算是完成了。"
   ]
  },
  {
   "cell_type": "markdown",
   "metadata": {},
   "source": [
    "###  准备数据"
   ]
  },
  {
   "cell_type": "markdown",
   "metadata": {},
   "source": [
    "随机生成50个x，范围在(0,6.28)，再用 $sin(x)$ 函数生成相应的y"
   ]
  },
  {
   "cell_type": "code",
   "execution_count": 11,
   "metadata": {},
   "outputs": [],
   "source": [
    "x_orig = np.random.rand(50) * 6.28\n",
    "y_orig = np.sin(x_orig)"
   ]
  },
  {
   "cell_type": "code",
   "execution_count": 12,
   "metadata": {},
   "outputs": [
    {
     "data": {
      "text/plain": [
       "<matplotlib.collections.PathCollection at 0x808b4e0>"
      ]
     },
     "execution_count": 12,
     "metadata": {},
     "output_type": "execute_result"
    },
    {
     "data": {
      "image/png": "[encoded data removed]",
      "text/plain": [
       "<matplotlib.figure.Figure at 0x68f0f98>"
      ]
     },
     "metadata": {},
     "output_type": "display_data"
    }
   ],
   "source": [
    "plt.scatter(x_orig, y_orig)"
   ]
  },
  {
   "cell_type": "markdown",
   "metadata": {},
   "source": [
    "再生成一些数据备用："
   ]
  },
  {
   "cell_type": "code",
   "execution_count": 13,
   "metadata": {},
   "outputs": [],
   "source": [
    "x_val = np.arange(0, 6.28, 0.1)\n",
    "y_val = np.sin(x_val)"
   ]
  },
  {
   "cell_type": "markdown",
   "metadata": {},
   "source": [
    "### 训练模型"
   ]
  },
  {
   "cell_type": "code",
   "execution_count": 14,
   "metadata": {},
   "outputs": [],
   "source": [
    "net = NN(num_neuron=4, learning_rate=0.1)"
   ]
  },
  {
   "cell_type": "code",
   "execution_count": 15,
   "metadata": {},
   "outputs": [],
   "source": [
    "def train(x, y, num_epochs=100):\n",
    "    for epoch in range(num_epochs):\n",
    "        net_out = np.ones_like(y)  # 声明一个跟y一样大的向量用来存网络的输出\n",
    "        for i, xi in enumerate(x):\n",
    "            net.forward(xi)\n",
    "            net_out[i] = np.sum(net.S2)\n",
    "            net.backward(xi, y[i])\n",
    "            net.update()\n",
    "        if (epoch + 1) % 50 == 0:\n",
    "            print 'epoch=%s, loss=%s' % (epoch, np.mean(L2(net_out, y)))"
   ]
  },
  {
   "cell_type": "code",
   "execution_count": 16,
   "metadata": {},
   "outputs": [
    {
     "name": "stdout",
     "output_type": "stream",
     "text": [
      "epoch=49, loss=0.05105337239472183\n",
      "epoch=99, loss=0.02153674691254408\n",
      "epoch=149, loss=0.01857803758568882\n",
      "epoch=199, loss=0.017257868936586023\n",
      "epoch=249, loss=0.01610946853275301\n",
      "epoch=299, loss=0.014908106881864726\n",
      "epoch=349, loss=0.013975653738283926\n",
      "epoch=399, loss=0.013109817501785114\n",
      "epoch=449, loss=0.012290366733133716\n",
      "epoch=499, loss=0.01150216515969786\n",
      "epoch=549, loss=0.010715086424053069\n",
      "epoch=599, loss=0.009885804714423595\n",
      "epoch=649, loss=0.008971706477283983\n",
      "epoch=699, loss=0.00795265634070131\n",
      "epoch=749, loss=0.00686668155277189\n",
      "epoch=799, loss=0.005815092062458179\n",
      "epoch=849, loss=0.004897334619592387\n",
      "epoch=899, loss=0.004154830235719198\n",
      "epoch=949, loss=0.0035778115023921875\n",
      "epoch=999, loss=0.003134972686683754\n"
     ]
    }
   ],
   "source": [
    "train(x_orig, y_orig, num_epochs=1000)"
   ]
  },
  {
   "cell_type": "markdown",
   "metadata": {},
   "source": [
    "### 使用模型"
   ]
  },
  {
   "cell_type": "code",
   "execution_count": 17,
   "metadata": {},
   "outputs": [],
   "source": [
    "def predict(x):\n",
    "    pred = []\n",
    "    for i, xi in enumerate(x):\n",
    "        net.forward(xi)\n",
    "        pred.append(np.sum(net.S2))\n",
    "        \n",
    "    return np.array(pred)"
   ]
  },
  {
   "cell_type": "code",
   "execution_count": 18,
   "metadata": {},
   "outputs": [],
   "source": [
    "y_val_pred = predict(x_val)"
   ]
  },
  {
   "cell_type": "code",
   "execution_count": 19,
   "metadata": {},
   "outputs": [
    {
     "data": {
      "text/plain": [
       "[<matplotlib.lines.Line2D at 0x80ce358>,\n",
       " <matplotlib.lines.Line2D at 0x795e9b0>]"
      ]
     },
     "execution_count": 19,
     "metadata": {},
     "output_type": "execute_result"
    },
    {
     "data": {
      "image/png": "[encoded data removed]",
      "text/plain": [
       "<matplotlib.figure.Figure at 0x7fcaf28>"
      ]
     },
     "metadata": {},
     "output_type": "display_data"
    }
   ],
   "source": [
    "plt.plot(x_val, y_val, x_val, y_val_pred)"
   ]
  },
  {
   "cell_type": "markdown",
   "metadata": {},
   "source": [
    "可以通过更改循环次数 num_epochs 、隐藏层神经元数量 num_neuron 、学习率 learning_rate 来改变拟合的效果。\n",
    "\n",
    "同样需要注意过拟合的问题。"
   ]
  },
  {
   "cell_type": "markdown",
   "metadata": {},
   "source": [
    "__练习__\n",
    "\n",
    "1. 请尝试用别的激活函数来实现这个网络\n",
    "\n",
    "2. 请尝试实现不同的网络结构 （增加隐藏层，更改神经元数量等）\n",
    "\n",
    "3. 请尝试拟合其它函数"
   ]
  },
  {
   "cell_type": "markdown",
   "metadata": {},
   "source": [
    "## 2. mxnet 实现"
   ]
  },
  {
   "cell_type": "code",
   "execution_count": 20,
   "metadata": {
    "scrolled": false
   },
   "outputs": [
    {
     "name": "stderr",
     "output_type": "stream",
     "text": [
      "C:\\Users\\Hikaru\\Anaconda2\\lib\\site-packages\\h5py\\__init__.py:36: FutureWarning: Conversion of the second argument of issubdtype from `float` to `np.floating` is deprecated. In future, it will be treated as `np.float64 == np.dtype(float).type`.\n",
      "  from ._conv import register_converters as _register_converters\n"
     ]
    }
   ],
   "source": [
    "import mxnet as mx\n",
    "from mxnet import nd"
   ]
  },
  {
   "cell_type": "markdown",
   "metadata": {},
   "source": [
    "### NDArray"
   ]
  },
  {
   "cell_type": "markdown",
   "metadata": {},
   "source": [
    "首先，了解一个最基本的工具 NDArray。正如用 sklearn 等工具做机器学习任务的时候离不开 numpy 一样，使用 mxnet 的时候要把数据格式转换成 NDArray。\n",
    "\n",
    "NDArray 和 nparray 之间的可以用这种方式相互转换："
   ]
  },
  {
   "cell_type": "code",
   "execution_count": 21,
   "metadata": {},
   "outputs": [
    {
     "data": {
      "text/plain": [
       "array([0., 0., 0., 0.])"
      ]
     },
     "execution_count": 21,
     "metadata": {},
     "output_type": "execute_result"
    }
   ],
   "source": [
    "a = np.zeros(4)\n",
    "a"
   ]
  },
  {
   "cell_type": "code",
   "execution_count": 22,
   "metadata": {},
   "outputs": [
    {
     "data": {
      "text/plain": [
       "\n",
       "[0. 0. 0. 0.]\n",
       "<NDArray 4 @cpu(0)>"
      ]
     },
     "execution_count": 22,
     "metadata": {},
     "output_type": "execute_result"
    }
   ],
   "source": [
    "# nparray -> ndarray\n",
    "a_ndarray = nd.array(a)\n",
    "a_ndarray"
   ]
  },
  {
   "cell_type": "code",
   "execution_count": 23,
   "metadata": {},
   "outputs": [
    {
     "data": {
      "text/plain": [
       "array([0., 0., 0., 0.], dtype=float32)"
      ]
     },
     "execution_count": 23,
     "metadata": {},
     "output_type": "execute_result"
    }
   ],
   "source": [
    "# ndarray -> nparray\n",
    "a_nparray = a_ndarray.asnumpy()\n",
    "a_nparray"
   ]
  },
  {
   "cell_type": "markdown",
   "metadata": {},
   "source": [
    "一般 nparray 能调用的函数 ndarray 都可以用相同或相似的方式调用。具体的参考文档。\n",
    "\n",
    "https://mxnet.incubator.apache.org/api/python/ndarray/ndarray.html\n"
   ]
  },
  {
   "cell_type": "markdown",
   "metadata": {},
   "source": [
    "### Gluon"
   ]
  },
  {
   "cell_type": "markdown",
   "metadata": {},
   "source": [
    "这里我们用 Gluon 来实现上面手动搭建的二层网络。"
   ]
  },
  {
   "cell_type": "code",
   "execution_count": 24,
   "metadata": {},
   "outputs": [],
   "source": [
    "from mxnet import autograd\n",
    "from mxnet.gluon import data as gdata"
   ]
  },
  {
   "cell_type": "markdown",
   "metadata": {},
   "source": [
    "### 生成 mxnet 能用的数据集"
   ]
  },
  {
   "cell_type": "code",
   "execution_count": 25,
   "metadata": {},
   "outputs": [],
   "source": [
    "# 输入放在features里，输出放在labels里，名字可随意更改\n",
    "features = nd.array(x_orig)\n",
    "# features = nd.array(x_orig, ctx=mx.gpu()) 如果要在 gpu 上运行就要把数据放到 gpu 上去\n",
    "labels = nd.array(y_orig)"
   ]
  },
  {
   "cell_type": "markdown",
   "metadata": {},
   "source": [
    "### 读取数据"
   ]
  },
  {
   "cell_type": "markdown",
   "metadata": {},
   "source": [
    "然后我们用 Gluon 自带的 data 来批量读数据。这里为了跟前面统一起来，一次只读一个数据。"
   ]
  },
  {
   "cell_type": "code",
   "execution_count": 26,
   "metadata": {},
   "outputs": [],
   "source": [
    "batch_size = 1\n",
    "dataset = gdata.ArrayDataset(features, labels)\n",
    "data_iter = gdata.DataLoader(dataset, batch_size, shuffle=False)  \n",
    "# 这里的参数shuffle可以帮你打乱输入数据的顺序。由于我们这里的batch_size=1所以没有打乱的必要"
   ]
  },
  {
   "cell_type": "markdown",
   "metadata": {},
   "source": [
    "可以看到是怎么批量读的"
   ]
  },
  {
   "cell_type": "code",
   "execution_count": 27,
   "metadata": {},
   "outputs": [
    {
     "name": "stdout",
     "output_type": "stream",
     "text": [
      "\n",
      "[4.7852364]\n",
      "<NDArray 1 @cpu(0)> \n",
      "[-0.99734783]\n",
      "<NDArray 1 @cpu(0)>\n",
      "\n",
      "[2.9916332]\n",
      "<NDArray 1 @cpu(0)> \n",
      "[0.14939804]\n",
      "<NDArray 1 @cpu(0)>\n",
      "\n",
      "[4.9949307]\n",
      "<NDArray 1 @cpu(0)> \n",
      "[-0.9603499]\n",
      "<NDArray 1 @cpu(0)>\n",
      "\n",
      "[2.6900826]\n",
      "<NDArray 1 @cpu(0)> \n",
      "[0.43632478]\n",
      "<NDArray 1 @cpu(0)>\n",
      "\n",
      "[4.6302514]\n",
      "<NDArray 1 @cpu(0)> \n",
      "[-0.9966286]\n",
      "<NDArray 1 @cpu(0)>\n",
      "\n",
      "[1.6233407]\n",
      "<NDArray 1 @cpu(0)> \n",
      "[0.99861985]\n",
      "<NDArray 1 @cpu(0)>\n",
      "\n",
      "[5.5529447]\n",
      "<NDArray 1 @cpu(0)> \n",
      "[-0.66704905]\n",
      "<NDArray 1 @cpu(0)>\n",
      "\n",
      "[0.24077204]\n",
      "<NDArray 1 @cpu(0)> \n",
      "[0.23845246]\n",
      "<NDArray 1 @cpu(0)>\n",
      "\n",
      "[5.0057273]\n",
      "<NDArray 1 @cpu(0)> \n",
      "[-0.9572839]\n",
      "<NDArray 1 @cpu(0)>\n",
      "\n",
      "[4.9627023]\n",
      "<NDArray 1 @cpu(0)> \n",
      "[-0.9688349]\n",
      "<NDArray 1 @cpu(0)>\n",
      "\n",
      "[0.15401044]\n",
      "<NDArray 1 @cpu(0)> \n",
      "[0.15340234]\n",
      "<NDArray 1 @cpu(0)>\n",
      "\n",
      "[1.8838794]\n",
      "<NDArray 1 @cpu(0)> \n",
      "[0.95138854]\n",
      "<NDArray 1 @cpu(0)>\n",
      "\n",
      "[3.7269769]\n",
      "<NDArray 1 @cpu(0)> \n",
      "[-0.55251956]\n",
      "<NDArray 1 @cpu(0)>\n",
      "\n",
      "[0.18819068]\n",
      "<NDArray 1 @cpu(0)> \n",
      "[0.18708183]\n",
      "<NDArray 1 @cpu(0)>\n",
      "\n",
      "[3.1964564]\n",
      "<NDArray 1 @cpu(0)> \n",
      "[-0.05483622]\n",
      "<NDArray 1 @cpu(0)>\n",
      "\n",
      "[5.677256]\n",
      "<NDArray 1 @cpu(0)> \n",
      "[-0.5695262]\n",
      "<NDArray 1 @cpu(0)>\n",
      "\n",
      "[2.3375778]\n",
      "<NDArray 1 @cpu(0)> \n",
      "[0.7201475]\n",
      "<NDArray 1 @cpu(0)>\n",
      "\n",
      "[3.3545885]\n",
      "<NDArray 1 @cpu(0)> \n",
      "[-0.21138902]\n",
      "<NDArray 1 @cpu(0)>\n",
      "\n",
      "[4.784547]\n",
      "<NDArray 1 @cpu(0)> \n",
      "[-0.9973978]\n",
      "<NDArray 1 @cpu(0)>\n",
      "\n",
      "[4.8130093]\n",
      "<NDArray 1 @cpu(0)> \n",
      "[-0.994942]\n",
      "<NDArray 1 @cpu(0)>\n",
      "\n",
      "[4.3876047]\n",
      "<NDArray 1 @cpu(0)> \n",
      "[-0.9477196]\n",
      "<NDArray 1 @cpu(0)>\n",
      "\n",
      "[1.9862932]\n",
      "<NDArray 1 @cpu(0)> \n",
      "[0.91491586]\n",
      "<NDArray 1 @cpu(0)>\n",
      "\n",
      "[0.3125431]\n",
      "<NDArray 1 @cpu(0)> \n",
      "[0.30747953]\n",
      "<NDArray 1 @cpu(0)>\n",
      "\n",
      "[4.3068147]\n",
      "<NDArray 1 @cpu(0)> \n",
      "[-0.918876]\n",
      "<NDArray 1 @cpu(0)>\n",
      "\n",
      "[0.9868146]\n",
      "<NDArray 1 @cpu(0)> \n",
      "[0.83427393]\n",
      "<NDArray 1 @cpu(0)>\n",
      "\n",
      "[3.3923607]\n",
      "<NDArray 1 @cpu(0)> \n",
      "[-0.248148]\n",
      "<NDArray 1 @cpu(0)>\n",
      "\n",
      "[0.5730019]\n",
      "<NDArray 1 @cpu(0)> \n",
      "[0.54215693]\n",
      "<NDArray 1 @cpu(0)>\n",
      "\n",
      "[4.4550924]\n",
      "<NDArray 1 @cpu(0)> \n",
      "[-0.9670814]\n",
      "<NDArray 1 @cpu(0)>\n",
      "\n",
      "[0.2569257]\n",
      "<NDArray 1 @cpu(0)> \n",
      "[0.25410837]\n",
      "<NDArray 1 @cpu(0)>\n",
      "\n",
      "[5.4867325]\n",
      "<NDArray 1 @cpu(0)> \n",
      "[-0.71488017]\n",
      "<NDArray 1 @cpu(0)>\n",
      "\n",
      "[3.491319]\n",
      "<NDArray 1 @cpu(0)> \n",
      "[-0.3426407]\n",
      "<NDArray 1 @cpu(0)>\n",
      "\n",
      "[2.628557]\n",
      "<NDArray 1 @cpu(0)> \n",
      "[0.4908244]\n",
      "<NDArray 1 @cpu(0)>\n",
      "\n",
      "[3.3667681]\n",
      "<NDArray 1 @cpu(0)> \n",
      "[-0.22327739]\n",
      "<NDArray 1 @cpu(0)>\n",
      "\n",
      "[5.6414595]\n",
      "<NDArray 1 @cpu(0)> \n",
      "[-0.5985787]\n",
      "<NDArray 1 @cpu(0)>\n",
      "\n",
      "[3.678361]\n",
      "<NDArray 1 @cpu(0)> \n",
      "[-0.51136136]\n",
      "<NDArray 1 @cpu(0)>\n",
      "\n",
      "[2.8132532]\n",
      "<NDArray 1 @cpu(0)> \n",
      "[0.32247168]\n",
      "<NDArray 1 @cpu(0)>\n",
      "\n",
      "[0.12746033]\n",
      "<NDArray 1 @cpu(0)> \n",
      "[0.12711549]\n",
      "<NDArray 1 @cpu(0)>\n",
      "\n",
      "[4.458446]\n",
      "<NDArray 1 @cpu(0)> \n",
      "[-0.9679294]\n",
      "<NDArray 1 @cpu(0)>\n",
      "\n",
      "[0.24668983]\n",
      "<NDArray 1 @cpu(0)> \n",
      "[0.24419534]\n",
      "<NDArray 1 @cpu(0)>\n",
      "\n",
      "[6.1506367]\n",
      "<NDArray 1 @cpu(0)> \n",
      "[-0.13216065]\n",
      "<NDArray 1 @cpu(0)>\n",
      "\n",
      "[3.8086123]\n",
      "<NDArray 1 @cpu(0)> \n",
      "[-0.61864716]\n",
      "<NDArray 1 @cpu(0)>\n",
      "\n",
      "[1.1727619]\n",
      "<NDArray 1 @cpu(0)> \n",
      "[0.92182463]\n",
      "<NDArray 1 @cpu(0)>\n",
      "\n",
      "[2.826912]\n",
      "<NDArray 1 @cpu(0)> \n",
      "[0.30951297]\n",
      "<NDArray 1 @cpu(0)>\n",
      "\n",
      "[1.8032163]\n",
      "<NDArray 1 @cpu(0)> \n",
      "[0.9731118]\n",
      "<NDArray 1 @cpu(0)>\n",
      "\n",
      "[2.213289]\n",
      "<NDArray 1 @cpu(0)> \n",
      "[0.80060464]\n",
      "<NDArray 1 @cpu(0)>\n",
      "\n",
      "[3.7532513]\n",
      "<NDArray 1 @cpu(0)> \n",
      "[-0.5742261]\n",
      "<NDArray 1 @cpu(0)>\n",
      "\n",
      "[4.0688868]\n",
      "<NDArray 1 @cpu(0)> \n",
      "[-0.7999994]\n",
      "<NDArray 1 @cpu(0)>\n",
      "\n",
      "[5.368194]\n",
      "<NDArray 1 @cpu(0)> \n",
      "[-0.7925573]\n",
      "<NDArray 1 @cpu(0)>\n",
      "\n",
      "[5.3426223]\n",
      "<NDArray 1 @cpu(0)> \n",
      "[-0.8078902]\n",
      "<NDArray 1 @cpu(0)>\n",
      "\n",
      "[2.6612663]\n",
      "<NDArray 1 @cpu(0)> \n",
      "[0.46206868]\n",
      "<NDArray 1 @cpu(0)>\n"
     ]
    }
   ],
   "source": [
    "for x_in, y_in in data_iter:\n",
    "    print x_in, y_in\n",
    "    "
   ]
  },
  {
   "cell_type": "markdown",
   "metadata": {},
   "source": [
    "### 搭建网络"
   ]
  },
  {
   "cell_type": "markdown",
   "metadata": {},
   "source": [
    "需要搭建网络就必须用到 gluon 里的 nn 模块。"
   ]
  },
  {
   "cell_type": "code",
   "execution_count": 28,
   "metadata": {},
   "outputs": [],
   "source": [
    "from mxnet import gluon\n",
    "from mxnet.gluon import nn"
   ]
  },
  {
   "cell_type": "markdown",
   "metadata": {},
   "source": [
    "然后告诉系统你要逐层搭建一个名为 net 的网络。"
   ]
  },
  {
   "cell_type": "code",
   "execution_count": 29,
   "metadata": {},
   "outputs": [],
   "source": [
    "net = nn.Sequential() # 可以理解为生成了一个毫无意义的头结点"
   ]
  },
  {
   "cell_type": "markdown",
   "metadata": {},
   "source": [
    "之后往里面加入隐藏层和输出层"
   ]
  },
  {
   "cell_type": "code",
   "execution_count": 30,
   "metadata": {},
   "outputs": [],
   "source": [
    "net.add(nn.Dense(4, activation='sigmoid'))  # 隐藏层，即第一层，有四个神经元，有激活函数\n",
    "net.add(nn.Dense(1)) # 输出层，即第二层，只有一个神经元，没有激活函数"
   ]
  },
  {
   "cell_type": "markdown",
   "metadata": {},
   "source": [
    "到这里网络的基本结构就搭完了，开始初始化所有网络参数。"
   ]
  },
  {
   "cell_type": "code",
   "execution_count": 31,
   "metadata": {},
   "outputs": [],
   "source": [
    "from mxnet import init\n",
    "net.initialize(init.Normal(sigma=0.01))"
   ]
  },
  {
   "cell_type": "markdown",
   "metadata": {},
   "source": [
    "### 损失函数"
   ]
  },
  {
   "cell_type": "markdown",
   "metadata": {},
   "source": [
    "gluon 同样提供了各种损失函数，这里我们依然采用 L2 loss。"
   ]
  },
  {
   "cell_type": "code",
   "execution_count": 32,
   "metadata": {},
   "outputs": [],
   "source": [
    "from mxnet.gluon import loss as gloss\n",
    "loss = gloss.L2Loss()"
   ]
  },
  {
   "cell_type": "markdown",
   "metadata": {},
   "source": [
    "### 开始训练"
   ]
  },
  {
   "cell_type": "markdown",
   "metadata": {},
   "source": [
    "开始训练之前我们还要先定义一下优化算法。\n",
    "\n",
    "这里使用随机梯度下降 sgd，定义学习率 learning_rate。"
   ]
  },
  {
   "cell_type": "code",
   "execution_count": 33,
   "metadata": {},
   "outputs": [],
   "source": [
    "trainer = gluon.Trainer(net.collect_params(), 'sgd', {'learning_rate': 0.1})"
   ]
  },
  {
   "cell_type": "code",
   "execution_count": 34,
   "metadata": {},
   "outputs": [
    {
     "name": "stdout",
     "output_type": "stream",
     "text": [
      "epoch=49, loss=[0.09404203]\n",
      "epoch=99, loss=[0.067218]\n",
      "epoch=149, loss=[0.01486135]\n",
      "epoch=199, loss=[0.01180108]\n",
      "epoch=249, loss=[0.00997119]\n",
      "epoch=299, loss=[0.00849567]\n",
      "epoch=349, loss=[0.00715335]\n",
      "epoch=399, loss=[0.00600629]\n",
      "epoch=449, loss=[0.00516253]\n",
      "epoch=499, loss=[0.0044896]\n",
      "epoch=549, loss=[0.00378515]\n",
      "epoch=599, loss=[0.00307214]\n",
      "epoch=649, loss=[0.00246909]\n",
      "epoch=699, loss=[0.0020199]\n",
      "epoch=749, loss=[0.00169927]\n",
      "epoch=799, loss=[0.00146615]\n",
      "epoch=849, loss=[0.00128943]\n",
      "epoch=899, loss=[0.00114976]\n",
      "epoch=949, loss=[0.00103541]\n",
      "epoch=999, loss=[0.00093888]\n"
     ]
    }
   ],
   "source": [
    "num_epochs = 1000\n",
    "for epoch in range(num_epochs):\n",
    "    for x_train, y_train in data_iter:\n",
    "        with autograd.record():\n",
    "            l2 = loss(net(x_train), y_train)\n",
    "        l2.backward()\n",
    "        trainer.step(batch_size)\n",
    "    if (epoch + 1) % 50 == 0:\n",
    "        print 'epoch=%s, loss=%s' % (epoch, loss(net(features), labels).mean().asnumpy())"
   ]
  },
  {
   "cell_type": "code",
   "execution_count": 35,
   "metadata": {},
   "outputs": [],
   "source": [
    "x_val_nd = nd.array(x_val)\n",
    "y_val_pred_nd = net(x_val_nd)\n",
    "y_val_pred = y_val_pred_nd.asnumpy()"
   ]
  },
  {
   "cell_type": "code",
   "execution_count": 36,
   "metadata": {},
   "outputs": [
    {
     "data": {
      "text/plain": [
       "[<matplotlib.lines.Line2D at 0x1ea40e48>,\n",
       " <matplotlib.lines.Line2D at 0x1ea40ef0>]"
      ]
     },
     "execution_count": 36,
     "metadata": {},
     "output_type": "execute_result"
    },
    {
     "data": {
      "image/png": "[encoded data removed]",
      "text/plain": [
       "<matplotlib.figure.Figure at 0x80bc080>"
      ]
     },
     "metadata": {},
     "output_type": "display_data"
    }
   ],
   "source": [
    "plt.plot(x_val, y_val, x_val, y_val_pred)"
   ]
  },
  {
   "cell_type": "markdown",
   "metadata": {},
   "source": [
    "__练习__\n",
    "\n",
    "1. 请尝试用别的激活函数来实现这个网络\n",
    "\n",
    "2. 请尝试实现不同的网络结构 （增加隐藏层，更改神经元数量等）\n",
    "\n",
    "3. 请尝试拟合其它函数"
   ]
  }
 ],
 "metadata": {
  "kernelspec": {
   "display_name": "Python 2",
   "language": "python",
   "name": "python2"
  },
  "language_info": {
   "codemirror_mode": {
    "name": "ipython",
    "version": 2
   },
   "file_extension": ".py",
   "mimetype": "text/x-python",
   "name": "python",
   "nbconvert_exporter": "python",
   "pygments_lexer": "ipython2",
   "version": "2.7.14"
  }
 },
 "nbformat": 4,
 "nbformat_minor": 2
}
