{
 "cells": [
  {
   "cell_type": "markdown",
   "metadata": {},
   "source": [
    "# 卷积神经网络"
   ]
  },
  {
   "cell_type": "markdown",
   "metadata": {},
   "source": [
    "## padding, strides的作用"
   ]
  },
  {
   "cell_type": "code",
   "execution_count": 1,
   "metadata": {},
   "outputs": [
    {
     "name": "stderr",
     "output_type": "stream",
     "text": [
      "C:\\Users\\Hikaru\\Anaconda2\\lib\\site-packages\\h5py\\__init__.py:36: FutureWarning: Conversion of the second argument of issubdtype from `float` to `np.floating` is deprecated. In future, it will be treated as `np.float64 == np.dtype(float).type`.\n",
      "  from ._conv import register_converters as _register_converters\n"
     ]
    }
   ],
   "source": [
    "from mxnet import nd\n",
    "from mxnet.gluon import nn"
   ]
  },
  {
   "cell_type": "markdown",
   "metadata": {},
   "source": [
    "先定义一个X作为卷积层的输入，X为一个高宽为的(5,5)的矩阵。"
   ]
  },
  {
   "cell_type": "code",
   "execution_count": 2,
   "metadata": {},
   "outputs": [
    {
     "data": {
      "text/plain": [
       "\n",
       "[[0.5488135  0.5928446  0.71518934 0.84426576 0.60276335]\n",
       " [0.8579456  0.5448832  0.8472517  0.4236548  0.6235637 ]\n",
       " [0.6458941  0.3843817  0.4375872  0.2975346  0.891773  ]\n",
       " [0.05671298 0.96366274 0.2726563  0.3834415  0.47766513]\n",
       " [0.79172504 0.8121687  0.5288949  0.47997716 0.56804454]]\n",
       "<NDArray 5x5 @cpu(0)>"
      ]
     },
     "execution_count": 2,
     "metadata": {},
     "output_type": "execute_result"
    }
   ],
   "source": [
    "X = nd.random.uniform(shape=(5,5))\n",
    "X"
   ]
  },
  {
   "cell_type": "markdown",
   "metadata": {},
   "source": [
    "这个X可以认为是只有一个通道且只有一个样本的数据，所以要先把它转换成卷积层能够运算的维度"
   ]
  },
  {
   "cell_type": "code",
   "execution_count": 3,
   "metadata": {},
   "outputs": [
    {
     "data": {
      "text/plain": [
       "\n",
       "[[[[0.5488135  0.5928446  0.71518934 0.84426576 0.60276335]\n",
       "   [0.8579456  0.5448832  0.8472517  0.4236548  0.6235637 ]\n",
       "   [0.6458941  0.3843817  0.4375872  0.2975346  0.891773  ]\n",
       "   [0.05671298 0.96366274 0.2726563  0.3834415  0.47766513]\n",
       "   [0.79172504 0.8121687  0.5288949  0.47997716 0.56804454]]]]\n",
       "<NDArray 1x1x5x5 @cpu(0)>"
      ]
     },
     "execution_count": 3,
     "metadata": {},
     "output_type": "execute_result"
    }
   ],
   "source": [
    "X = X.reshape((1,1,) + X.shape)\n",
    "X"
   ]
  },
  {
   "cell_type": "markdown",
   "metadata": {},
   "source": [
    "定义一个二维的卷积层，channels=1，kernel_size=3(卷积核高宽为3\\*3)，padding=0，strides=1："
   ]
  },
  {
   "cell_type": "code",
   "execution_count": 4,
   "metadata": {
    "scrolled": false
   },
   "outputs": [
    {
     "data": {
      "text/plain": [
       "\n",
       "[[[[-0.07265629 -0.02996709 -0.05599695]\n",
       "   [-0.08196221  0.0065964  -0.07164453]\n",
       "   [-0.05519189 -0.07947221 -0.03134103]]]]\n",
       "<NDArray 1x1x3x3 @cpu(0)>"
      ]
     },
     "execution_count": 4,
     "metadata": {},
     "output_type": "execute_result"
    }
   ],
   "source": [
    "conv_layer = nn.Conv2D(channels=1 , kernel_size=3, padding=0,strides=1)\n",
    "conv_layer.initialize(force_reinit=True)\n",
    "conv_layer(X)"
   ]
  },
  {
   "cell_type": "markdown",
   "metadata": {},
   "source": [
    "卷积层的输出的高宽就变为了3\\*3。计算的方式为5-3+1=3\n",
    "\n",
    "当 kernel_size、padding、strides的值为(a,a)的形式时可以简写为a。在这里默认padding时候是对称地在两端各加入a行或者a列。"
   ]
  },
  {
   "cell_type": "code",
   "execution_count": 5,
   "metadata": {},
   "outputs": [
    {
     "data": {
      "text/plain": [
       "conv0_ (\n",
       "  Parameter conv0_weight (shape=(1L, 1L, 3L, 3L), dtype=<type 'numpy.float32'>)\n",
       "  Parameter conv0_bias (shape=(1L,), dtype=<type 'numpy.float32'>)\n",
       ")"
      ]
     },
     "execution_count": 5,
     "metadata": {},
     "output_type": "execute_result"
    }
   ],
   "source": [
    "conv_layer.params"
   ]
  },
  {
   "cell_type": "markdown",
   "metadata": {},
   "source": [
    "这个卷积层一共有3\\*3+1=10个需要训练的参数。"
   ]
  },
  {
   "cell_type": "markdown",
   "metadata": {},
   "source": [
    "当channels=1，kernel_size=3，padding=1，strides=1时就会得到跟输入相同高宽的输出，因为 5 - 3 + 2 + 1 = 5"
   ]
  },
  {
   "cell_type": "code",
   "execution_count": 6,
   "metadata": {},
   "outputs": [
    {
     "data": {
      "text/plain": [
       "\n",
       "[[[[0.07879697 0.13109213 0.10206491 0.12027679 0.01479829]\n",
       "   [0.14459844 0.18046197 0.18126246 0.18797696 0.10550467]\n",
       "   [0.16965365 0.12954047 0.19445038 0.1672945  0.1147798 ]\n",
       "   [0.14026433 0.20511073 0.115531   0.16248739 0.10643023]\n",
       "   [0.1242496  0.10454565 0.08863002 0.08350381 0.05368542]]]]\n",
       "<NDArray 1x1x5x5 @cpu(0)>"
      ]
     },
     "execution_count": 6,
     "metadata": {},
     "output_type": "execute_result"
    }
   ],
   "source": [
    "conv_layer = nn.Conv2D(channels=1 , kernel_size=3, padding=1,strides=1)\n",
    "conv_layer.initialize(force_reinit=True)\n",
    "conv_layer(X)"
   ]
  },
  {
   "cell_type": "markdown",
   "metadata": {},
   "source": [
    "当channels=1，kernel_size=3，padding=1，strides=2时："
   ]
  },
  {
   "cell_type": "code",
   "execution_count": 7,
   "metadata": {},
   "outputs": [
    {
     "data": {
      "text/plain": [
       "\n",
       "[[[[ 0.00512447  0.03436728  0.0735539 ]\n",
       "   [ 0.00474501  0.06926426  0.06970382]\n",
       "   [-0.02111948  0.05971721  0.04665373]]]]\n",
       "<NDArray 1x1x3x3 @cpu(0)>"
      ]
     },
     "execution_count": 7,
     "metadata": {},
     "output_type": "execute_result"
    }
   ],
   "source": [
    "conv_layer = nn.Conv2D(channels=1 , kernel_size=3, padding=1,strides=2)\n",
    "conv_layer.initialize(force_reinit=True)\n",
    "conv_layer(X)"
   ]
  },
  {
   "cell_type": "markdown",
   "metadata": {},
   "source": [
    "计算方式为(5 - 3 + 2 + 2)/2=3 。这样一来就减小了输入的高宽。我们一半用strides来成倍减少输出的高宽。"
   ]
  },
  {
   "cell_type": "markdown",
   "metadata": {},
   "source": [
    "卷积核同样可以是高宽不等的矩阵，计算方式是类似的。\n",
    "\n",
    "假设输入还是X, 请根据形状计算公式计算下面卷积层的输出形状："
   ]
  },
  {
   "cell_type": "code",
   "execution_count": 8,
   "metadata": {},
   "outputs": [
    {
     "data": {
      "text/plain": [
       "Conv2D(None -> 1, kernel_size=(2, 1), stride=(2, 1), padding=(2, 3))"
      ]
     },
     "execution_count": 8,
     "metadata": {},
     "output_type": "execute_result"
    }
   ],
   "source": [
    "nn.Conv2D(channels=1 , kernel_size=(2, 1), padding=(2,3),strides=(2,1))"
   ]
  },
  {
   "cell_type": "markdown",
   "metadata": {},
   "source": [
    "## 多通道输入和输出"
   ]
  },
  {
   "cell_type": "markdown",
   "metadata": {},
   "source": [
    "需要设置输出通道数只需在channels处指定即可。"
   ]
  },
  {
   "cell_type": "code",
   "execution_count": 9,
   "metadata": {},
   "outputs": [
    {
     "data": {
      "text/plain": [
       "\n",
       "[[[[-0.05216176 -0.04653428  0.02504515]\n",
       "   [-0.01279594 -0.02271961 -0.01073688]\n",
       "   [ 0.01790022 -0.01827742  0.00246948]]\n",
       "\n",
       "  [[-0.08731312 -0.11926781 -0.09274729]\n",
       "   [ 0.00151717 -0.07124412 -0.08364075]\n",
       "   [ 0.01050385 -0.04050701 -0.02398763]]]]\n",
       "<NDArray 1x2x3x3 @cpu(0)>"
      ]
     },
     "execution_count": 9,
     "metadata": {},
     "output_type": "execute_result"
    }
   ],
   "source": [
    "conv_layer = nn.Conv2D(channels=2 , kernel_size=3, padding=1,strides=2)\n",
    "conv_layer.initialize(force_reinit=True)\n",
    "conv_layer(X)"
   ]
  },
  {
   "cell_type": "code",
   "execution_count": 10,
   "metadata": {
    "scrolled": true
   },
   "outputs": [
    {
     "data": {
      "text/plain": [
       "\n",
       "[[[[0.6176355  0.14967486 0.6120957  0.22232139 0.616934  ]\n",
       "   [0.38648897 0.94374806 0.9025985  0.6818203  0.44994998]\n",
       "   [0.3595079  0.61306345 0.43703195 0.9023486  0.6976312 ]\n",
       "   [0.09928035 0.06022547 0.96980906 0.6667667  0.65314   ]\n",
       "   [0.67063785 0.17090958 0.21038257 0.35815218 0.12892629]]\n",
       "\n",
       "  [[0.75068617 0.31542835 0.60783064 0.36371076 0.32504722]\n",
       "   [0.57019675 0.03842543 0.43860152 0.63427407 0.9883738 ]\n",
       "   [0.95894927 0.10204481 0.6527903  0.20887676 0.6350589 ]\n",
       "   [0.16130951 0.9952996  0.6531083  0.58185035 0.2532916 ]\n",
       "   [0.4143686  0.46631077 0.4746975  0.2444256  0.6235101 ]]]]\n",
       "<NDArray 1x2x5x5 @cpu(0)>"
      ]
     },
     "execution_count": 10,
     "metadata": {},
     "output_type": "execute_result"
    }
   ],
   "source": [
    "X1 = nd.random.uniform(shape=(1,2,5,5))\n",
    "X1"
   ]
  },
  {
   "cell_type": "code",
   "execution_count": 11,
   "metadata": {},
   "outputs": [
    {
     "data": {
      "text/plain": [
       "\n",
       "[[[[ 0.00712641 -0.0040303   0.03668668]\n",
       "   [-0.08360508 -0.11144921 -0.00838126]\n",
       "   [-0.05730859 -0.05394671 -0.00496497]]]]\n",
       "<NDArray 1x1x3x3 @cpu(0)>"
      ]
     },
     "execution_count": 11,
     "metadata": {},
     "output_type": "execute_result"
    }
   ],
   "source": [
    "conv_layer = nn.Conv2D(channels=1 , kernel_size=3, padding=1,strides=2)\n",
    "conv_layer.initialize(force_reinit=True)\n",
    "conv_layer(X)"
   ]
  },
  {
   "cell_type": "markdown",
   "metadata": {},
   "source": [
    "# AlexNet"
   ]
  },
  {
   "cell_type": "markdown",
   "metadata": {},
   "source": [
    "来搭建一个真正的深度卷积神经网络吧！\n",
    "\n",
    "这里我们使用了一个公开的的数据集 CIFAR-10。为了计算速度，我只用了100个训练样本和一个测试样本。做计算机视觉类任务时，一般把训练集、验证集和测试集的数据放在不同的文件夹中方便读取。\n",
    "\n",
    "整理之后一般把一类的文件放在同一个文件夹下面。"
   ]
  },
  {
   "cell_type": "code",
   "execution_count": 12,
   "metadata": {},
   "outputs": [],
   "source": [
    "import mxnet as mx\n",
    "from mxnet import autograd\n",
    "from mxnet import gluon\n",
    "from mxnet import image\n",
    "from mxnet import init\n",
    "from mxnet import nd\n",
    "from mxnet.gluon.data import vision\n",
    "import numpy as np\n",
    "import pandas as pd\n",
    "from mxnet.gluon import nn\n",
    "import h5py\n",
    "import os\n",
    "import shutil\n",
    "import matplotlib.pyplot as plt\n",
    "from mxnet.gluon import data as gdata, loss as gloss"
   ]
  },
  {
   "cell_type": "code",
   "execution_count": 13,
   "metadata": {},
   "outputs": [],
   "source": [
    "def recog_data(data_dir, label_file, train_dir, test_dir, input_dir, valid_ratio):\n",
    "    with open(os.path.join(data_dir, label_file), 'r') as f:\n",
    "        lines = f.readlines()[1:]\n",
    "        tokens = [l.rstrip().split(',') for l in lines]\n",
    "        idx_label = dict(((int(idx), label) for idx, label in tokens))\n",
    "    labels = set(idx_label.values())\n",
    "    \n",
    "    n_train_valid = len(os.listdir(os.path.join(data_dir, train_dir)))\n",
    "    n_train = int(n_train_valid * (1 - valid_ratio))\n",
    "    assert 0 < n_train < n_train_valid\n",
    "    n_train_per_label = n_train // len(labels)\n",
    "    label_count = {}\n",
    "\n",
    "    def mkdir_if_not_exist(path):\n",
    "        if not os.path.exists(os.path.join(*path)):\n",
    "            os.makedirs(os.path.join(*path))\n",
    "\n",
    "    # 整理训练和验证集。\n",
    "    for train_file in os.listdir(os.path.join(data_dir, train_dir)):\n",
    "        idx = int(train_file.split('.')[0])\n",
    "        label = idx_label[idx]\n",
    "        mkdir_if_not_exist([data_dir, input_dir, 'train_valid', label])\n",
    "        shutil.copy(os.path.join(data_dir, train_dir, train_file),\n",
    "                    os.path.join(data_dir, input_dir, 'train_valid', label))\n",
    "        if label not in label_count or label_count[label] < n_train_per_label:\n",
    "            mkdir_if_not_exist([data_dir, input_dir, 'train', label])\n",
    "            shutil.copy(os.path.join(data_dir, train_dir, train_file),\n",
    "                        os.path.join(data_dir, input_dir, 'train', label))\n",
    "            label_count[label] = label_count.get(label, 0) + 1\n",
    "        else:\n",
    "            mkdir_if_not_exist([data_dir, input_dir, 'valid', label])\n",
    "            shutil.copy(os.path.join(data_dir, train_dir, train_file),\n",
    "                        os.path.join(data_dir, input_dir, 'valid', label))\n",
    "\n",
    "    # 整理测试集。\n",
    "    mkdir_if_not_exist([data_dir, input_dir, 'test', 'unknown'])\n",
    "    for test_file in os.listdir(os.path.join(data_dir, test_dir)):\n",
    "        shutil.copy(os.path.join(data_dir, test_dir, test_file),\n",
    "                    os.path.join(data_dir, input_dir, 'test', 'unknown'))"
   ]
  },
  {
   "cell_type": "code",
   "execution_count": 14,
   "metadata": {},
   "outputs": [],
   "source": [
    "data_dir = \"data\"\n",
    "label_file = \"trainLabels.csv\"\n",
    "train_dir = 'train_tiny'\n",
    "test_dir = 'test_tiny'\n",
    "input_dir = \"train_valid_test\"\n",
    "valid_ratio=0.1"
   ]
  },
  {
   "cell_type": "code",
   "execution_count": 15,
   "metadata": {},
   "outputs": [],
   "source": [
    "recog_data(data_dir, label_file, train_dir, test_dir, input_dir, valid_ratio)"
   ]
  },
  {
   "cell_type": "code",
   "execution_count": 16,
   "metadata": {},
   "outputs": [],
   "source": [
    "transform_train = gdata.vision.transforms.Compose([\n",
    "    # 将图片放大成高和宽各为 40 像素的正方形。\n",
    "    gdata.vision.transforms.Resize(40),\n",
    "    # 随机对高和宽各为 40 像素的正方形图片裁剪出面积为原图片面积 0.64 到 1 倍之间的小正方\n",
    "    # 形，再放缩为高和宽各为 32 像素的正方形。\n",
    "    gdata.vision.transforms.RandomResizedCrop(32, scale=(0.64, 1.0),\n",
    "                                              ratio=(1.0, 1.0)),\n",
    "    # 随机左右翻转图片。\n",
    "    gdata.vision.transforms.RandomFlipLeftRight(),\n",
    "    # 将图片像素值按比例缩小到 0 和 1 之间，并将数据格式从“高 * 宽 * 通道”改为“通道 * 高 * 宽”。\n",
    "    gdata.vision.transforms.ToTensor(),\n",
    "    # 对图片的每个通道做标准化。\n",
    "    gdata.vision.transforms.Normalize([0.4914, 0.4822, 0.4465],\n",
    "                                      [0.2023, 0.1994, 0.2010])\n",
    "])\n",
    "\n",
    "# 测试时，无需对图像做标准化以外的增强数据处理。\n",
    "transform_test = gdata.vision.transforms.Compose([\n",
    "    gdata.vision.transforms.ToTensor(),\n",
    "    gdata.vision.transforms.Normalize([0.4914, 0.4822, 0.4465],\n",
    "                                      [0.2023, 0.1994, 0.2010])\n",
    "])\n"
   ]
  },
  {
   "cell_type": "code",
   "execution_count": 17,
   "metadata": {},
   "outputs": [],
   "source": [
    "batch_size = 5\n",
    "train_ds = gluon.data.vision.ImageFolderDataset(os.path.join(data_dir, input_dir, 'train'), flag=1)\n",
    "valid_ds = gluon.data.vision.ImageFolderDataset(os.path.join(data_dir, input_dir, 'valid'), flag=1)\n",
    "train_valid_ds = gluon.data.vision.ImageFolderDataset(os.path.join(data_dir, input_dir, 'train_valid'),\n",
    "                                           flag=1)\n",
    "test_ds = gluon.data.vision.ImageFolderDataset(os.path.join(data_dir, input_dir, 'test'), flag=1)\n",
    "\n",
    "loader = gluon.data.DataLoader\n",
    "train_data = loader(train_ds.transform_first(transform_train), batch_size, shuffle=True, last_batch='keep')\n",
    "valid_data = loader(valid_ds.transform_first(transform_test), batch_size, shuffle=True, last_batch='keep')\n",
    "train_valid_data = loader(train_valid_ds.transform_first(transform_train), batch_size, shuffle=True,\n",
    "                          last_batch='keep')\n",
    "test_data = loader(test_ds.transform_first(transform_test), batch_size, shuffle=False, last_batch='keep')"
   ]
  },
  {
   "cell_type": "code",
   "execution_count": 18,
   "metadata": {},
   "outputs": [],
   "source": [
    "def alexnet():\n",
    "    net = nn.Sequential()\n",
    "    net.add(\n",
    "        nn.Conv2D(96, kernel_size=5, padding=2, strides=2, activation='relu'),\n",
    "        nn.MaxPool2D(pool_size=3, strides=2),\n",
    "        nn.Conv2D(256, kernel_size=3, padding=2, activation='relu'),\n",
    "        nn.MaxPool2D(pool_size=3, strides=2),\n",
    "        nn.Conv2D(384, kernel_size=3, padding=1, activation='relu'),\n",
    "        nn.Conv2D(384, kernel_size=3, padding=1, activation='relu'),\n",
    "        nn.Conv2D(256, kernel_size=3, padding=1, activation='relu'),\n",
    "        nn.MaxPool2D(pool_size=3, strides=2),\n",
    "        # 使用比 LeNet 输出大数倍了全连接层。其使用丢弃层来控制复杂度。\n",
    "        nn.Dense(4096, activation=\"relu\"), nn.Dropout(0.5),\n",
    "        nn.Dense(4096, activation=\"relu\"), nn.Dropout(0.5),\n",
    "        # 输出层。我们这里使用 CIFAR-10，所以用 10，而不是论文中的 1000。\n",
    "        nn.Dense(10)\n",
    "    )\n",
    "    return net"
   ]
  },
  {
   "cell_type": "code",
   "execution_count": 19,
   "metadata": {},
   "outputs": [],
   "source": [
    "lr = 0.01\n",
    "num_epochs = 5\n",
    "ctx = mx.gpu()\n",
    "net = alexnet()\n",
    "net.initialize(force_reinit=True, ctx = ctx, init = init.Xavier())\n",
    "trainer = gluon.Trainer(net.collect_params(), 'sgd', {'learning_rate': lr})\n",
    "loss = gloss.SoftmaxCrossEntropyLoss()"
   ]
  },
  {
   "cell_type": "code",
   "execution_count": 20,
   "metadata": {},
   "outputs": [],
   "source": [
    "def get_loss(data, net, ctx):\n",
    "    loss = 0.0\n",
    "    for feas, label in data:\n",
    "        label = label.as_in_context(ctx)\n",
    "        output = net(feas.as_in_context(ctx))\n",
    "        cross_entropy = softmax_cross_entropy(output, label)\n",
    "        loss += nd.mean(cross_entropy).asscalar()\n",
    "    return loss / len(data)\n",
    "\n",
    "def train(net, train_data, valid_data, num_epochs, lr, wd, ctx):\n",
    "    trainer = gluon.Trainer(\n",
    "        net.collect_params(), 'adam', {'learning_rate': lr, 'wd': wd})\n",
    "    train_loss = []\n",
    "    if valid_data is not None:\n",
    "        test_loss = []\n",
    "    \n",
    "    for epoch in range(num_epochs):\n",
    "        _loss = 0.\n",
    "        for data, label in train_data:\n",
    "            label = label.as_in_context(ctx)\n",
    "            with autograd.record():\n",
    "                output = net(data.as_in_context(ctx))\n",
    "                loss = softmax_cross_entropy(output, label)\n",
    "            loss.backward()\n",
    "            trainer.step(batch_size)\n",
    "            _loss += nd.mean(loss).asscalar()\n",
    "        __loss = _loss/len(train_data)\n",
    "        train_loss.append(__loss)\n",
    "        \n",
    "        if valid_data is not None:  \n",
    "            valid_loss = get_loss(valid_data, net, ctx)\n",
    "            epoch_str = (\"Epoch %d. Train loss: %f, Valid loss %f, \"\n",
    "                         % (epoch,__loss , valid_loss))\n",
    "            test_loss.append(valid_loss)\n",
    "        else:\n",
    "            epoch_str = (\"Epoch %d. Train loss: %f, \"\n",
    "                         % (epoch, __loss))\n",
    "            \n",
    "        print('lr ' + str(trainer.learning_rate))\n",
    "        \n",
    "\n",
    "    plt.plot(train_loss, 'r')\n",
    "    if valid_data is not None: \n",
    "        plt.plot(test_loss, 'g')\n",
    "    plt.legend(['Train_Loss', 'Test_Loss'], loc=2)\n",
    "\n"
   ]
  },
  {
   "cell_type": "code",
   "execution_count": 21,
   "metadata": {},
   "outputs": [
    {
     "name": "stderr",
     "output_type": "stream",
     "text": [
      "C:\\Users\\Hikaru\\Anaconda2\\lib\\site-packages\\ipykernel_launcher.py:4: UserWarning: All children of this Sequential layer 'sequential0_' are HybridBlocks. Consider using HybridSequential for the best performance.\n",
      "  after removing the cwd from sys.path.\n"
     ]
    },
    {
     "name": "stdout",
     "output_type": "stream",
     "text": [
      "lr 0.001\n",
      "lr 0.001\n",
      "lr 0.001\n",
      "lr 0.001\n",
      "lr 0.001\n"
     ]
    },
    {
     "data": {
      "image/png": "[encoded data removed]",
      "text/plain": [
       "<matplotlib.figure.Figure at 0x330c9f28>"
      ]
     },
     "metadata": {},
     "output_type": "display_data"
    }
   ],
   "source": [
    "softmax_cross_entropy = gluon.loss.SoftmaxCrossEntropyLoss()\n",
    "#ctx = mx.gpu()\n",
    "#net = alexnet()\n",
    "net.hybridize()\n",
    "\n",
    "train(net, train_data,valid_data, num_epochs, 0.001, 0.002, ctx)"
   ]
  },
  {
   "cell_type": "code",
   "execution_count": null,
   "metadata": {},
   "outputs": [],
   "source": []
  }
 ],
 "metadata": {
  "kernelspec": {
   "display_name": "Python 2",
   "language": "python",
   "name": "python2"
  },
  "language_info": {
   "codemirror_mode": {
    "name": "ipython",
    "version": 2
   },
   "file_extension": ".py",
   "mimetype": "text/x-python",
   "name": "python",
   "nbconvert_exporter": "python",
   "pygments_lexer": "ipython2",
   "version": "2.7.14"
  }
 },
 "nbformat": 4,
 "nbformat_minor": 2
}
