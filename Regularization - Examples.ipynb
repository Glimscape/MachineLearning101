{
 "cells": [
  {
   "cell_type": "markdown",
   "metadata": {},
   "source": [
    "# 超参数和正则化"
   ]
  },
  {
   "cell_type": "code",
   "execution_count": 1,
   "metadata": {},
   "outputs": [],
   "source": [
    "import numpy as np\n",
    "import matplotlib.pyplot as plt\n",
    "%matplotlib inline"
   ]
  },
  {
   "cell_type": "markdown",
   "metadata": {},
   "source": [
    "## 1. K-fold cross-validation K折交叉验证"
   ]
  },
  {
   "cell_type": "markdown",
   "metadata": {},
   "source": [
    "又称 K-CV。在 K-CV 中，我们把训练集均分成 K 个互斥的子集，然后做 K 次训练和验证，每次都用其中一个子集做验证集，剩下的 K-1 个子集合并成一个新的训练集。这 K 次里面每次选用的验证集都不同。然后我们把这 K 次的训练误差和验证误差的均值作为整体的训练误差和验证误差。"
   ]
  },
  {
   "cell_type": "code",
   "execution_count": null,
   "metadata": {},
   "outputs": [],
   "source": [
    "## 请先自行定义一个训练函数 train 和简单的网络 net\n",
    "## 函数 train 返回两个参数 （训练误差，验证误差）\n",
    "def k_cv(k, epochs, X_train, y_train, lr):\n",
    "    #fold_size = 1\n",
    "    ## 定义每个子集的长度 fold_size，将训练集均等分为 k 份\n",
    "    fold_size = X_train.shape[0] // k\n",
    "    \n",
    "    ## 预留数组储存每一次的训练误差和验证误差\n",
    "    train_error = [0.0] * k\n",
    "    eval_error = [0.0] * k\n",
    "    for i in range(k):\n",
    "        ## 划分每一轮循环的训练集和验证集\n",
    "        ## 定义验证集下标的起点和终点\n",
    "        val_idx_start = i * fold_size\n",
    "        val_idx_stop = (i + 1) * fold_size\n",
    "        val_idx = range(val_idx_start, val_idx_stop)\n",
    "        train_idx = range(0, val_idx_start) + range(val_idx_stop, X_train.shape[0])\n",
    "        X_val = X_train[val_idx, :]\n",
    "        y_val = y_train[val_idx]\n",
    "        X_tr = X_train[train_idx, :]\n",
    "        y_tr = y_train[train_idx]\n",
    "        te, ee = train(net, X_tr, y_tr, X_val, y_val, epochs, lr)\n",
    "        train_error[i] = te\n",
    "        eval_error[i] = ee\n",
    "    return np.mean(train_eroro), np.mean(eval_error)"
   ]
  },
  {
   "cell_type": "markdown",
   "metadata": {},
   "source": [
    "请试着把它用在后面的超参数选择过程中。"
   ]
  },
  {
   "cell_type": "markdown",
   "metadata": {},
   "source": [
    "## 2. Early stopping 提前终止"
   ]
  },
  {
   "cell_type": "code",
   "execution_count": 2,
   "metadata": {},
   "outputs": [
    {
     "name": "stderr",
     "output_type": "stream",
     "text": [
      "C:\\Users\\Hikaru\\Anaconda2\\lib\\site-packages\\h5py\\__init__.py:36: FutureWarning: Conversion of the second argument of issubdtype from `float` to `np.floating` is deprecated. In future, it will be treated as `np.float64 == np.dtype(float).type`.\n",
      "  from ._conv import register_converters as _register_converters\n"
     ]
    }
   ],
   "source": [
    "import mxnet as mx\n",
    "from mxnet import nd\n",
    "from mxnet import autograd\n",
    "from mxnet.gluon import data as gdata\n",
    "from mxnet import gluon\n",
    "from mxnet.gluon import nn\n",
    "from mxnet import init\n",
    "from mxnet.gluon import loss as gloss"
   ]
  },
  {
   "cell_type": "markdown",
   "metadata": {},
   "source": [
    "建一个简单的带有噪声的数据集，我们用 x 和 y_real 做后面的训练。\n",
    "y_real 与 x 的关系满足多项式 $$y = x^2 + noise$$\n",
    "\n",
    "随机噪声满足标准正态分布"
   ]
  },
  {
   "cell_type": "code",
   "execution_count": 3,
   "metadata": {},
   "outputs": [
    {
     "data": {
      "image/png": "[encoded data removed]",
      "text/plain": [
       "<matplotlib.figure.Figure at 0x2fa03940>"
      ]
     },
     "metadata": {},
     "output_type": "display_data"
    }
   ],
   "source": [
    "np.random.seed(1)\n",
    "x = np.arange(-np.pi, np.pi, 0.5)\n",
    "y_exp = x**2\n",
    "y_real = y_exp + np.random.randn(len(x))\n",
    "plt.scatter(x, y_real)\n",
    "plt.plot(x, y_exp, 'r-')\n",
    "plt.show()"
   ]
  },
  {
   "cell_type": "markdown",
   "metadata": {},
   "source": [
    "红线表示数据理想的样子，蓝点表示加了噪声之后数据的样子。"
   ]
  },
  {
   "cell_type": "code",
   "execution_count": 4,
   "metadata": {},
   "outputs": [],
   "source": [
    "## 划分训练集和验证集\n",
    "np.random.seed(2)\n",
    "shuffle_idx = np.random.permutation(len(x))\n",
    "split_idx = len(x) * 2 / 3\n",
    "x_train = nd.array(x[shuffle_idx[:split_idx]])\n",
    "y_train = nd.array(y_real[shuffle_idx[:split_idx]])\n",
    "x_val = nd.array(x[shuffle_idx[split_idx:]])\n",
    "y_val = nd.array(y_real[shuffle_idx[split_idx:]])"
   ]
  },
  {
   "cell_type": "code",
   "execution_count": 5,
   "metadata": {},
   "outputs": [],
   "source": [
    "## 定义损失函数\n",
    "loss = gloss.L2Loss()"
   ]
  },
  {
   "cell_type": "code",
   "execution_count": 6,
   "metadata": {},
   "outputs": [],
   "source": [
    "## 定义网络结构，这里还是使用两层的前馈网络，隐藏层的神经元数量可调\n",
    "def new_net(num_neurons):\n",
    "    net = nn.Sequential()\n",
    "    net.add(nn.Dense(num_neurons, activation='tanh'))\n",
    "    net.add(nn.Dense(1))\n",
    "    net.initialize(init.Normal(sigma=0.1))\n",
    "    return net"
   ]
  },
  {
   "cell_type": "code",
   "execution_count": 7,
   "metadata": {},
   "outputs": [],
   "source": [
    "def train(net, X_train, y_train, X_val, y_val, num_epochs, lr, \\\n",
    "         batch_size, draw = False):\n",
    "    epoch_list = []\n",
    "    train_err_list = []\n",
    "    eval_err_list = []\n",
    "    train_iter = gdata.DataLoader(gdata.ArrayDataset(\n",
    "        X_train, y_train), batch_size, shuffle = True)\n",
    "    trainer = gluon.Trainer(net.collect_params(),'sgd',{'learning_rate': lr})\n",
    "    ## 使用交叉验证的话把下面这行的注释去掉\n",
    "    # net.initialize(init=init.Xavier(), force_reinit=True)\n",
    "    for epoch in range(num_epochs):\n",
    "        for X, y in train_iter:\n",
    "            with autograd.record():\n",
    "                l = loss(net(X), y)\n",
    "            l.backward()\n",
    "            trainer.step(batch_size)\n",
    "        train_error = loss(net(X_train), y_train).mean().asscalar()\n",
    "        if epoch % 100 == 0:\n",
    "            eval_error = loss(net(X_val), y_val).mean().asscalar()\n",
    "            epoch_list.append(epoch)\n",
    "            train_err_list.append(train_error)\n",
    "            eval_err_list.append(eval_error)\n",
    "            print \"epoch %d, train error: %.4f, validation error: %.4f\" % (epoch, train_error, eval_error)\n",
    "        eval_error = loss(net(X_val), y_val).mean().asscalar()\n",
    "    if draw:\n",
    "        draw_something(epoch_list, train_err_list, eval_err_list)\n",
    "    return train_error, eval_error"
   ]
  },
  {
   "cell_type": "code",
   "execution_count": 8,
   "metadata": {},
   "outputs": [],
   "source": [
    "def draw_something(epoch_list, train_err_list, eval_err_list):\n",
    "    plt.plot(epoch_list, train_err_list, label = 'training error')\n",
    "    plt.plot(epoch_list, eval_err_list, label = 'validation error')\n",
    "    plt.xlabel('epochs')\n",
    "    plt.ylabel('error')\n",
    "    plt.legend()\n",
    "    plt.show()"
   ]
  },
  {
   "cell_type": "code",
   "execution_count": 9,
   "metadata": {},
   "outputs": [],
   "source": [
    "## 建一个隐藏层有50个神经元的前馈神经网络\n",
    "net = new_net(50)"
   ]
  },
  {
   "cell_type": "code",
   "execution_count": 10,
   "metadata": {},
   "outputs": [
    {
     "name": "stdout",
     "output_type": "stream",
     "text": [
      "epoch 0, train error: 9.4783, validation error: 11.1730\n",
      "epoch 100, train error: 5.7461, validation error: 9.0444\n",
      "epoch 200, train error: 1.3683, validation error: 2.4192\n",
      "epoch 300, train error: 1.0360, validation error: 2.1728\n",
      "epoch 400, train error: 0.7096, validation error: 2.5592\n",
      "epoch 500, train error: 0.5638, validation error: 2.6384\n",
      "epoch 600, train error: 0.4750, validation error: 2.6898\n",
      "epoch 700, train error: 0.4040, validation error: 2.7253\n",
      "epoch 800, train error: 0.3327, validation error: 2.7478\n",
      "epoch 900, train error: 0.2575, validation error: 2.7649\n",
      "epoch 1000, train error: 0.1887, validation error: 2.7842\n",
      "epoch 1100, train error: 0.1349, validation error: 2.8092\n",
      "epoch 1200, train error: 0.0971, validation error: 2.8392\n",
      "epoch 1300, train error: 0.0718, validation error: 2.8714\n",
      "epoch 1400, train error: 0.0550, validation error: 2.9023\n",
      "epoch 1500, train error: 0.0434, validation error: 2.9294\n",
      "epoch 1600, train error: 0.0349, validation error: 2.9519\n",
      "epoch 1700, train error: 0.0285, validation error: 2.9698\n",
      "epoch 1800, train error: 0.0236, validation error: 2.9840\n",
      "epoch 1900, train error: 0.0196, validation error: 2.9950\n",
      "epoch 2000, train error: 0.0164, validation error: 3.0036\n",
      "epoch 2100, train error: 0.0137, validation error: 3.0102\n",
      "epoch 2200, train error: 0.0115, validation error: 3.0152\n",
      "epoch 2300, train error: 0.0097, validation error: 3.0189\n",
      "epoch 2400, train error: 0.0082, validation error: 3.0216\n",
      "epoch 2500, train error: 0.0069, validation error: 3.0236\n",
      "epoch 2600, train error: 0.0059, validation error: 3.0249\n",
      "epoch 2700, train error: 0.0050, validation error: 3.0257\n",
      "epoch 2800, train error: 0.0042, validation error: 3.0260\n",
      "epoch 2900, train error: 0.0036, validation error: 3.0261\n",
      "epoch 3000, train error: 0.0030, validation error: 3.0259\n",
      "epoch 3100, train error: 0.0026, validation error: 3.0255\n",
      "epoch 3200, train error: 0.0022, validation error: 3.0249\n",
      "epoch 3300, train error: 0.0018, validation error: 3.0242\n",
      "epoch 3400, train error: 0.0016, validation error: 3.0235\n",
      "epoch 3500, train error: 0.0013, validation error: 3.0227\n",
      "epoch 3600, train error: 0.0011, validation error: 3.0218\n",
      "epoch 3700, train error: 0.0010, validation error: 3.0210\n",
      "epoch 3800, train error: 0.0008, validation error: 3.0201\n",
      "epoch 3900, train error: 0.0007, validation error: 3.0192\n",
      "epoch 4000, train error: 0.0006, validation error: 3.0184\n",
      "epoch 4100, train error: 0.0005, validation error: 3.0175\n",
      "epoch 4200, train error: 0.0004, validation error: 3.0167\n",
      "epoch 4300, train error: 0.0004, validation error: 3.0159\n",
      "epoch 4400, train error: 0.0003, validation error: 3.0152\n",
      "epoch 4500, train error: 0.0003, validation error: 3.0145\n",
      "epoch 4600, train error: 0.0002, validation error: 3.0138\n",
      "epoch 4700, train error: 0.0002, validation error: 3.0131\n",
      "epoch 4800, train error: 0.0002, validation error: 3.0125\n",
      "epoch 4900, train error: 0.0001, validation error: 3.0120\n"
     ]
    },
    {
     "data": {
      "image/png": "[encoded data removed]",
      "text/plain": [
       "<matplotlib.figure.Figure at 0x2f965518>"
      ]
     },
     "metadata": {},
     "output_type": "display_data"
    },
    {
     "data": {
      "text/plain": [
       "(0.00011162478, 2.995578)"
      ]
     },
     "execution_count": 10,
     "metadata": {},
     "output_type": "execute_result"
    }
   ],
   "source": [
    "np.random.seed(3)\n",
    "net.initialize(init.Normal(sigma=0.1), force_reinit=True)\n",
    "train(net, x_train, y_train, x_val, y_val, 5000, 0.1, 10, draw=True)"
   ]
  },
  {
   "cell_type": "markdown",
   "metadata": {},
   "source": [
    "虽然不明显，但是还是可以看出 training error 一直在下降， validation error 经历了一个先下降后上升的过程。这就是出现了过拟合。"
   ]
  },
  {
   "cell_type": "code",
   "execution_count": 11,
   "metadata": {},
   "outputs": [
    {
     "data": {
      "image/png": "[encoded data removed]",
      "text/plain": [
       "<matplotlib.figure.Figure at 0x2fb7a9e8>"
      ]
     },
     "metadata": {},
     "output_type": "display_data"
    }
   ],
   "source": [
    "x_test = nd.array(x)\n",
    "y_pred = net(x_test)\n",
    "y_plot = y_pred.asnumpy()\n",
    "plt.plot(x, y_exp, label = 'real line')\n",
    "plt.plot(x, y_plot, label = 'pred line')\n",
    "plt.legend()\n",
    "plt.show()"
   ]
  },
  {
   "cell_type": "markdown",
   "metadata": {},
   "source": [
    "然后试试在500个epoch时就停下来，其它参数不变。"
   ]
  },
  {
   "cell_type": "code",
   "execution_count": 12,
   "metadata": {},
   "outputs": [
    {
     "name": "stdout",
     "output_type": "stream",
     "text": [
      "epoch 0, train error: 9.7593, validation error: 10.8873\n",
      "epoch 100, train error: 5.5950, validation error: 8.8393\n",
      "epoch 200, train error: 2.0409, validation error: 3.6833\n",
      "epoch 300, train error: 1.3766, validation error: 2.6245\n",
      "epoch 400, train error: 1.0411, validation error: 2.4737\n"
     ]
    },
    {
     "data": {
      "image/png": "[encoded data removed]",
      "text/plain": [
       "<matplotlib.figure.Figure at 0x2fba7e10>"
      ]
     },
     "metadata": {},
     "output_type": "display_data"
    },
    {
     "data": {
      "text/plain": [
       "(0.60297894, 2.939097)"
      ]
     },
     "execution_count": 12,
     "metadata": {},
     "output_type": "execute_result"
    }
   ],
   "source": [
    "np.random.seed(3)\n",
    "net.initialize(init.Normal(sigma=0.1), force_reinit=True)\n",
    "train(net, x_train, y_train, x_val, y_val, 500, 0.1, 10, draw=True)"
   ]
  },
  {
   "cell_type": "code",
   "execution_count": 13,
   "metadata": {
    "scrolled": false
   },
   "outputs": [
    {
     "data": {
      "image/png": "[encoded data removed]",
      "text/plain": [
       "<matplotlib.figure.Figure at 0x3212e630>"
      ]
     },
     "metadata": {},
     "output_type": "display_data"
    }
   ],
   "source": [
    "x_test = nd.array(x)\n",
    "y_pred = net(x_test)\n",
    "y_plot = y_pred.asnumpy()\n",
    "plt.plot(x, y_exp, label = 'real line')\n",
    "plt.plot(x, y_plot, label = 'pred line')\n",
    "plt.legend()\n",
    "plt.show()"
   ]
  },
  {
   "cell_type": "markdown",
   "metadata": {},
   "source": [
    "效果虽然还是过拟合，但是比前面的情况要稍微要好一些。"
   ]
  },
  {
   "cell_type": "markdown",
   "metadata": {},
   "source": [
    "## 3. Adjust learning rate 调整学习率 lr"
   ]
  },
  {
   "cell_type": "markdown",
   "metadata": {},
   "source": [
    "学习率会影响收敛的时间，具体的请自行尝试。一般 lr 的取值为 1，0.1，0.01 等，也可以在训练的过程中发生衰减。\n",
    "\n",
    "请试写一下每 100 个 epoch 之后 lr 衰减为原来的一半的 train 函数。"
   ]
  },
  {
   "cell_type": "markdown",
   "metadata": {},
   "source": [
    "## 4. L2范数正则化"
   ]
  },
  {
   "cell_type": "markdown",
   "metadata": {},
   "source": [
    "L2范数正则化，就是在模型原本的损失函数的基础上添加L2范数作为惩罚项。这里我们只对weight做正则化。"
   ]
  },
  {
   "cell_type": "markdown",
   "metadata": {},
   "source": [
    "所以训练函数就可以改成这样："
   ]
  },
  {
   "cell_type": "code",
   "execution_count": 16,
   "metadata": {},
   "outputs": [],
   "source": [
    "def train(net, X_train, y_train, X_val, y_val, num_epochs, lr, \\\n",
    "         batch_size, wd, draw = False):\n",
    "    epoch_list = []\n",
    "    train_err_list = []\n",
    "    eval_err_list = []\n",
    "    train_iter = gdata.DataLoader(gdata.ArrayDataset(\n",
    "        X_train, y_train), batch_size, shuffle = True)\n",
    "    ## 只对weight做正则化，不考虑bias\n",
    "    trainer_w = gluon.Trainer(net.collect_params('.*weight'),'sgd',\n",
    "                              {'learning_rate': lr, 'wd': wd})\n",
    "    trainer_b = gluon.Trainer(net.collect_params('.*bias'), 'sgd',\n",
    "                             {'learning_rate': lr})\n",
    "    ## 使用交叉验证的话把下面这行的注释去掉\n",
    "    # net.initialize(init=init.Xavier(), force_reinit=True)\n",
    "    for epoch in range(num_epochs):\n",
    "        for X, y in train_iter:\n",
    "            with autograd.record():\n",
    "                l = loss(net(X), y)\n",
    "            l.backward()\n",
    "            ## 对两个trainer分别调用step\n",
    "            trainer_w.step(batch_size)\n",
    "            trainer_b.step(batch_size)\n",
    "        train_error = loss(net(X_train), y_train).mean().asscalar()\n",
    "        if epoch % 100 == 0:\n",
    "            eval_error = loss(net(X_val), y_val).mean().asscalar()\n",
    "            epoch_list.append(epoch)\n",
    "            train_err_list.append(train_error)\n",
    "            eval_err_list.append(eval_error)\n",
    "            print \"epoch %d, train error: %.4f, validation error: %.4f\" % (epoch, train_error, eval_error)\n",
    "        eval_error = loss(net(X_val), y_val).mean().asscalar()\n",
    "    if draw:\n",
    "        draw_something(epoch_list, train_err_list, eval_err_list)\n",
    "    return train_error, eval_error"
   ]
  },
  {
   "cell_type": "code",
   "execution_count": 17,
   "metadata": {
    "scrolled": false
   },
   "outputs": [
    {
     "name": "stdout",
     "output_type": "stream",
     "text": [
      "epoch 0, train error: 10.1502, validation error: 10.3478\n",
      "epoch 100, train error: 6.4119, validation error: 5.9725\n",
      "epoch 200, train error: 6.2781, validation error: 6.0539\n",
      "epoch 300, train error: 5.7765, validation error: 5.6948\n",
      "epoch 400, train error: 4.8256, validation error: 4.6740\n",
      "epoch 500, train error: 4.4995, validation error: 4.4506\n",
      "epoch 600, train error: 4.3878, validation error: 4.4218\n",
      "epoch 700, train error: 4.3573, validation error: 4.4091\n",
      "epoch 800, train error: 4.3507, validation error: 4.4056\n",
      "epoch 900, train error: 4.3493, validation error: 4.4048\n"
     ]
    },
    {
     "data": {
      "image/png": "[encoded data removed]",
      "text/plain": [
       "<matplotlib.figure.Figure at 0x322664e0>"
      ]
     },
     "metadata": {},
     "output_type": "display_data"
    },
    {
     "data": {
      "text/plain": [
       "(4.3490257, 4.40468)"
      ]
     },
     "execution_count": 17,
     "metadata": {},
     "output_type": "execute_result"
    }
   ],
   "source": [
    "np.random.seed(3)\n",
    "net.initialize(init.Normal(sigma=0.1), force_reinit=True)\n",
    "train(net, x_train, y_train, x_val, y_val, 1000, 0.1, batch_size=10, wd=1, draw=True)"
   ]
  },
  {
   "cell_type": "code",
   "execution_count": 18,
   "metadata": {},
   "outputs": [
    {
     "data": {
      "image/png": "[encoded data removed]",
      "text/plain": [
       "<matplotlib.figure.Figure at 0x322660b8>"
      ]
     },
     "metadata": {},
     "output_type": "display_data"
    }
   ],
   "source": [
    "x_test = nd.array(x)\n",
    "y_pred = net(x_test)\n",
    "y_plot = y_pred.asnumpy()\n",
    "plt.plot(x, y_exp, label = 'real line')\n",
    "plt.plot(x, y_plot, label = 'pred line')\n",
    "plt.legend()\n",
    "plt.show()"
   ]
  },
  {
   "cell_type": "markdown",
   "metadata": {},
   "source": [
    "欠拟合了……但是可以看到线条平滑了不少，这就是正则化的力量。"
   ]
  },
  {
   "cell_type": "markdown",
   "metadata": {},
   "source": [
    "## 5. 初始化函数的选择"
   ]
  },
  {
   "cell_type": "markdown",
   "metadata": {},
   "source": [
    "MXNet 的 init 模块提供了几个初始化的方法。具体可以参考 https://mxnet.incubator.apache.org/api/python/optimization/optimization.html#module-mxnet.initializer\n",
    "\n",
    "需要注意的一点是不能把所有的权重初始化为0，否则？\n",
    "\n",
    "可以多尝试各种初始化方法，说不定会有惊喜。\n",
    "\n",
    "也可以自定义初始化函数。\n",
    "\n",
    "一般使用正态分布初始化的方法保证权重的均值为0。"
   ]
  },
  {
   "cell_type": "code",
   "execution_count": 19,
   "metadata": {},
   "outputs": [],
   "source": [
    "## 将权重初始化为均值为0，标准差为0.01的正态分布随机数\n",
    "## 假如不是第一次对参数做初始化，要把force_reinit设成 True\n",
    "net.initialize(init=init.Normal(sigma = 0.01), force_reinit=True)"
   ]
  },
  {
   "cell_type": "markdown",
   "metadata": {},
   "source": [
    "可以用这种方式查看每一层的 weight 和 bias"
   ]
  },
  {
   "cell_type": "code",
   "execution_count": 20,
   "metadata": {},
   "outputs": [
    {
     "data": {
      "text/plain": [
       "\n",
       "[-0.0088165  -0.005147   -0.02341325  0.002762    0.01063557 -0.01019689\n",
       "  0.00374245  0.00941602  0.00053763  0.00805516  0.00112969  0.00529344\n",
       "  0.00826293 -0.00941042 -0.00616595  0.00597792 -0.00277788 -0.01167859\n",
       "  0.00923334 -0.00317221  0.00842336 -0.00189047  0.01233136 -0.00972316\n",
       " -0.00644789  0.0026323  -0.00340782 -0.00532805 -0.00711909 -0.00716095\n",
       "  0.01613258  0.00964917  0.02526586 -0.01172786 -0.01702983 -0.00421657\n",
       " -0.01005197 -0.01006717  0.00616641  0.00891012 -0.00572187 -0.0140261\n",
       " -0.00276108  0.00592655 -0.00195088 -0.01077261 -0.01883068  0.00400938\n",
       " -0.00905535 -0.00708639]\n",
       "<NDArray 50 @cpu(0)>"
      ]
     },
     "execution_count": 20,
     "metadata": {},
     "output_type": "execute_result"
    }
   ],
   "source": [
    "## 输出层的权重第一行\n",
    "net[1].weight.data()[0]"
   ]
  },
  {
   "cell_type": "code",
   "execution_count": 21,
   "metadata": {},
   "outputs": [
    {
     "data": {
      "text/plain": [
       "\n",
       "[0. 0. 0. 0. 0. 0. 0. 0. 0. 0. 0. 0. 0. 0. 0. 0. 0. 0. 0. 0. 0. 0. 0. 0.\n",
       " 0. 0. 0. 0. 0. 0. 0. 0. 0. 0. 0. 0. 0. 0. 0. 0. 0. 0. 0. 0. 0. 0. 0. 0.\n",
       " 0. 0.]\n",
       "<NDArray 50 @cpu(0)>"
      ]
     },
     "execution_count": 21,
     "metadata": {},
     "output_type": "execute_result"
    }
   ],
   "source": [
    "## 隐藏层的 bias，只有weight满足正态分布，bias初始化为0向量\n",
    "net[0].bias.data()"
   ]
  },
  {
   "cell_type": "code",
   "execution_count": 22,
   "metadata": {},
   "outputs": [],
   "source": [
    "## 也可以单独给某一层的权重初始化\n",
    "net[0].weight.initialize(init=init.Normal(sigma = 0.1), force_reinit=True)"
   ]
  },
  {
   "cell_type": "code",
   "execution_count": 23,
   "metadata": {},
   "outputs": [
    {
     "data": {
      "text/plain": [
       "\n",
       "[[1.]\n",
       " [1.]\n",
       " [1.]\n",
       " [1.]\n",
       " [1.]\n",
       " [1.]\n",
       " [1.]\n",
       " [1.]\n",
       " [1.]\n",
       " [1.]\n",
       " [1.]\n",
       " [1.]\n",
       " [1.]\n",
       " [1.]\n",
       " [1.]\n",
       " [1.]\n",
       " [1.]\n",
       " [1.]\n",
       " [1.]\n",
       " [1.]\n",
       " [1.]\n",
       " [1.]\n",
       " [1.]\n",
       " [1.]\n",
       " [1.]\n",
       " [1.]\n",
       " [1.]\n",
       " [1.]\n",
       " [1.]\n",
       " [1.]\n",
       " [1.]\n",
       " [1.]\n",
       " [1.]\n",
       " [1.]\n",
       " [1.]\n",
       " [1.]\n",
       " [1.]\n",
       " [1.]\n",
       " [1.]\n",
       " [1.]\n",
       " [1.]\n",
       " [1.]\n",
       " [1.]\n",
       " [1.]\n",
       " [1.]\n",
       " [1.]\n",
       " [1.]\n",
       " [1.]\n",
       " [1.]\n",
       " [1.]]\n",
       "<NDArray 50x1 @cpu(0)>"
      ]
     },
     "execution_count": 23,
     "metadata": {},
     "output_type": "execute_result"
    }
   ],
   "source": [
    "## 或者使用 set_data 直接指定初始化的值\n",
    "dummy_weights = nd.ones_like(net[0].weight.data())\n",
    "net[0].weight.set_data(dummy_weights)\n",
    "net[0].weight.data()"
   ]
  },
  {
   "cell_type": "markdown",
   "metadata": {},
   "source": [
    "## 6. batch size 批量数据的大小"
   ]
  },
  {
   "cell_type": "markdown",
   "metadata": {},
   "source": [
    "这个可以通过调整batch_size来控制。\n",
    "\n",
    "试着调一调看看对收敛速度和收敛效果有什么影响。"
   ]
  },
  {
   "cell_type": "markdown",
   "metadata": {},
   "source": [
    "## 7. Dropout 丢弃法"
   ]
  },
  {
   "cell_type": "markdown",
   "metadata": {},
   "source": [
    "添加丢弃层的做法很简单，假如我们要在某一层后面添加丢弃层，在构建 net 的过程中只要在那一层的后面添加 nn.Dropout() 并在里面指定丢弃概率就行。假设丢弃概率为drop_prob"
   ]
  },
  {
   "cell_type": "code",
   "execution_count": null,
   "metadata": {},
   "outputs": [],
   "source": [
    "drop_prob = 0.1"
   ]
  },
  {
   "cell_type": "code",
   "execution_count": null,
   "metadata": {},
   "outputs": [],
   "source": [
    "## 建一个3层的前馈网络\n",
    "## 并第二个隐藏层后面添加丢弃层\n",
    "net = nn.Sequential()\n",
    "net.add(nn.Dense(10, activation='relu'))\n",
    "net.add(nn.Dense(20, activation='tanh'))\n",
    "net.add(nn.Dropout(drop_prob))\n",
    "net.add(nn.Dense(2))"
   ]
  },
  {
   "cell_type": "markdown",
   "metadata": {},
   "source": [
    "剩下的使用方法跟普通的前馈网络没有区别。"
   ]
  },
  {
   "cell_type": "markdown",
   "metadata": {},
   "source": [
    "## 练习\n",
    "\n",
    "尝试写一个网络拟合下面这个函数。期待你的表现哦 (★ ω ★)"
   ]
  },
  {
   "cell_type": "code",
   "execution_count": 24,
   "metadata": {},
   "outputs": [],
   "source": [
    "np.random.seed(1)\n",
    "x = np.arange(-np.pi, np.pi, 0.05)\n",
    "y_exp = np.sin(2*x)\n",
    "y_real = y_exp + 0.1*np.random.randn(len(x))"
   ]
  },
  {
   "cell_type": "code",
   "execution_count": 25,
   "metadata": {},
   "outputs": [
    {
     "data": {
      "image/png": "[encoded data removed]",
      "text/plain": [
       "<matplotlib.figure.Figure at 0x3290ee48>"
      ]
     },
     "metadata": {},
     "output_type": "display_data"
    }
   ],
   "source": [
    "plt.scatter(x, y_real)\n",
    "plt.plot(x, y_exp, 'r-')\n",
    "plt.show()"
   ]
  },
  {
   "cell_type": "code",
   "execution_count": null,
   "metadata": {},
   "outputs": [],
   "source": []
  }
 ],
 "metadata": {
  "kernelspec": {
   "display_name": "Python 2",
   "language": "python",
   "name": "python2"
  },
  "language_info": {
   "codemirror_mode": {
    "name": "ipython",
    "version": 2
   },
   "file_extension": ".py",
   "mimetype": "text/x-python",
   "name": "python",
   "nbconvert_exporter": "python",
   "pygments_lexer": "ipython2",
   "version": "2.7.14"
  }
 },
 "nbformat": 4,
 "nbformat_minor": 2
}
